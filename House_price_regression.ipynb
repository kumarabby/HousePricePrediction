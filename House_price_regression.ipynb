{
 "cells": [
  {
   "cell_type": "markdown",
   "metadata": {},
   "source": [
    "# HOUSE PRICE PREDICTION FOR HOUSES IN  KOCHI"
   ]
  },
  {
   "cell_type": "code",
   "execution_count": 1,
   "metadata": {},
   "outputs": [
    {
     "name": "stdout",
     "output_type": "stream",
     "text": [
      "Starting ML Engines...\n",
      "Pandas version 0.20.3\n",
      "Numpy version 1.13.3\n",
      "Sci-kit learn version 0.19.1\n",
      "ML Engines are loaded..\n"
     ]
    }
   ],
   "source": [
    "#Author -kumar abhinav\n",
    "#date-30/07/2018\n",
    "print (\"Starting ML Engines...\")\n",
    "import pandas as pd\n",
    "print (\"Pandas version\", pd.__version__)\n",
    "import numpy as np\n",
    "print (\"Numpy version\", np.__version__)\n",
    "import sklearn as sk\n",
    "print (\"Sci-kit learn version\", sk.__version__)\n",
    "print (\"ML Engines are loaded..\")"
   ]
  },
  {
   "cell_type": "markdown",
   "metadata": {},
   "source": [
    "## loading all necessary libraries for doing modelling \n",
    "- Data is collected from various sites like magicbricks,99acres.com\n",
    "- proposed modelling is in these steps\n",
    " - Feature description\n",
    " - Data cleaning\n",
    " - outlier detection and removal\n",
    " - Regression techniques for fitting of data\n",
    " - testing using different metrics to calculate accuracy"
   ]
  },
  {
   "cell_type": "code",
   "execution_count": 2,
   "metadata": {
    "collapsed": true
   },
   "outputs": [],
   "source": [
    "from sklearn.preprocessing import LabelEncoder\n",
    "from sklearn.model_selection import train_test_split\n",
    "from sklearn.metrics import mean_absolute_error, mean_squared_error\n",
    "from math import sqrt\n",
    "from sklearn.linear_model import LinearRegression\n",
    "from sklearn.ensemble import GradientBoostingRegressor, RandomForestRegressor\n",
    "from sklearn.svm import LinearSVR\n",
    "from sklearn.neural_network import MLPRegressor"
   ]
  },
  {
   "cell_type": "code",
   "execution_count": 3,
   "metadata": {},
   "outputs": [
    {
     "data": {
      "text/plain": [
       "'C:\\\\Users\\\\Lenovo\\\\AnacondaProjects\\\\TCS_project'"
      ]
     },
     "execution_count": 3,
     "metadata": {},
     "output_type": "execute_result"
    }
   ],
   "source": [
    "import os\n",
    "os.getcwd()"
   ]
  },
  {
   "cell_type": "markdown",
   "metadata": {},
   "source": [
    "## Loading the data for House prices"
   ]
  },
  {
   "cell_type": "code",
   "execution_count": 4,
   "metadata": {
    "collapsed": true
   },
   "outputs": [],
   "source": [
    "house_data=pd.read_csv(\"2Cleaned_HP.csv\")"
   ]
  },
  {
   "cell_type": "code",
   "execution_count": 5,
   "metadata": {},
   "outputs": [
    {
     "data": {
      "text/html": [
       "<div>\n",
       "<style>\n",
       "    .dataframe thead tr:only-child th {\n",
       "        text-align: right;\n",
       "    }\n",
       "\n",
       "    .dataframe thead th {\n",
       "        text-align: left;\n",
       "    }\n",
       "\n",
       "    .dataframe tbody tr th {\n",
       "        vertical-align: top;\n",
       "    }\n",
       "</style>\n",
       "<table border=\"1\" class=\"dataframe\">\n",
       "  <thead>\n",
       "    <tr style=\"text-align: right;\">\n",
       "      <th></th>\n",
       "      <th>id</th>\n",
       "      <th>sqft</th>\n",
       "      <th>bhk</th>\n",
       "      <th>type</th>\n",
       "      <th>neighbourhood</th>\n",
       "      <th>location</th>\n",
       "      <th>price</th>\n",
       "    </tr>\n",
       "  </thead>\n",
       "  <tbody>\n",
       "    <tr>\n",
       "      <th>0</th>\n",
       "      <td>1</td>\n",
       "      <td>3092</td>\n",
       "      <td>3</td>\n",
       "      <td>Flat/Apartment</td>\n",
       "      <td>Purva Oceana</td>\n",
       "      <td>Marine Drive</td>\n",
       "      <td>31800000</td>\n",
       "    </tr>\n",
       "    <tr>\n",
       "      <th>1</th>\n",
       "      <td>2</td>\n",
       "      <td>1830</td>\n",
       "      <td>3</td>\n",
       "      <td>Flat/Apartment</td>\n",
       "      <td>Livit Harmony</td>\n",
       "      <td>Aluva</td>\n",
       "      <td>7800000</td>\n",
       "    </tr>\n",
       "    <tr>\n",
       "      <th>2</th>\n",
       "      <td>3</td>\n",
       "      <td>1654</td>\n",
       "      <td>3</td>\n",
       "      <td>Flat/Apartment</td>\n",
       "      <td>DD Highway Proxima</td>\n",
       "      <td>Kundanoor</td>\n",
       "      <td>7600000</td>\n",
       "    </tr>\n",
       "    <tr>\n",
       "      <th>3</th>\n",
       "      <td>4</td>\n",
       "      <td>2595</td>\n",
       "      <td>3</td>\n",
       "      <td>Flat/Apartment</td>\n",
       "      <td>Marina One</td>\n",
       "      <td>Marine Drive</td>\n",
       "      <td>23300000</td>\n",
       "    </tr>\n",
       "    <tr>\n",
       "      <th>4</th>\n",
       "      <td>5</td>\n",
       "      <td>1799</td>\n",
       "      <td>3</td>\n",
       "      <td>Flat/Apartment</td>\n",
       "      <td>Kalista</td>\n",
       "      <td>Kakkanad</td>\n",
       "      <td>8190000</td>\n",
       "    </tr>\n",
       "    <tr>\n",
       "      <th>5</th>\n",
       "      <td>6</td>\n",
       "      <td>973</td>\n",
       "      <td>2</td>\n",
       "      <td>Flat/Apartment</td>\n",
       "      <td>Trinity Citadel</td>\n",
       "      <td>Kadavanthra</td>\n",
       "      <td>6290000</td>\n",
       "    </tr>\n",
       "    <tr>\n",
       "      <th>6</th>\n",
       "      <td>7</td>\n",
       "      <td>910</td>\n",
       "      <td>2</td>\n",
       "      <td>Flat/Apartment</td>\n",
       "      <td>Airport Greens</td>\n",
       "      <td>Aluva</td>\n",
       "      <td>3350000</td>\n",
       "    </tr>\n",
       "    <tr>\n",
       "      <th>7</th>\n",
       "      <td>8</td>\n",
       "      <td>1419</td>\n",
       "      <td>3</td>\n",
       "      <td>Flat/Apartment</td>\n",
       "      <td>EV Kingston Towers</td>\n",
       "      <td>Aluva</td>\n",
       "      <td>6100000</td>\n",
       "    </tr>\n",
       "    <tr>\n",
       "      <th>8</th>\n",
       "      <td>9</td>\n",
       "      <td>1875</td>\n",
       "      <td>3</td>\n",
       "      <td>Flat/Apartment</td>\n",
       "      <td>Noel Song</td>\n",
       "      <td>Kadavanthra</td>\n",
       "      <td>10800000</td>\n",
       "    </tr>\n",
       "    <tr>\n",
       "      <th>9</th>\n",
       "      <td>10</td>\n",
       "      <td>130</td>\n",
       "      <td>3</td>\n",
       "      <td>Villa</td>\n",
       "      <td>Kakkanad</td>\n",
       "      <td>Kochi</td>\n",
       "      <td>6100000</td>\n",
       "    </tr>\n",
       "    <tr>\n",
       "      <th>10</th>\n",
       "      <td>11</td>\n",
       "      <td>1437</td>\n",
       "      <td>2</td>\n",
       "      <td>Flat/Apartment</td>\n",
       "      <td>Green Vistas Prakrriti</td>\n",
       "      <td>Kakkanad</td>\n",
       "      <td>5370000</td>\n",
       "    </tr>\n",
       "  </tbody>\n",
       "</table>\n",
       "</div>"
      ],
      "text/plain": [
       "    id  sqft bhk             type            neighbourhood       location  \\\n",
       "0    1  3092   3   Flat/Apartment             Purva Oceana   Marine Drive   \n",
       "1    2  1830   3   Flat/Apartment            Livit Harmony          Aluva   \n",
       "2    3  1654   3   Flat/Apartment       DD Highway Proxima      Kundanoor   \n",
       "3    4  2595   3   Flat/Apartment               Marina One   Marine Drive   \n",
       "4    5  1799   3   Flat/Apartment                  Kalista       Kakkanad   \n",
       "5    6   973   2   Flat/Apartment          Trinity Citadel    Kadavanthra   \n",
       "6    7   910   2   Flat/Apartment           Airport Greens          Aluva   \n",
       "7    8  1419   3   Flat/Apartment       EV Kingston Towers          Aluva   \n",
       "8    9  1875   3   Flat/Apartment                Noel Song    Kadavanthra   \n",
       "9   10   130   3            Villa                 Kakkanad          Kochi   \n",
       "10  11  1437   2   Flat/Apartment   Green Vistas Prakrriti       Kakkanad   \n",
       "\n",
       "       price  \n",
       "0   31800000  \n",
       "1    7800000  \n",
       "2    7600000  \n",
       "3   23300000  \n",
       "4    8190000  \n",
       "5    6290000  \n",
       "6    3350000  \n",
       "7    6100000  \n",
       "8   10800000  \n",
       "9    6100000  \n",
       "10   5370000  "
      ]
     },
     "execution_count": 5,
     "metadata": {},
     "output_type": "execute_result"
    }
   ],
   "source": [
    "house_data.iloc[0:11,:]"
   ]
  },
  {
   "cell_type": "code",
   "execution_count": 6,
   "metadata": {},
   "outputs": [
    {
     "data": {
      "text/plain": [
       "(1880, 7)"
      ]
     },
     "execution_count": 6,
     "metadata": {},
     "output_type": "execute_result"
    }
   ],
   "source": [
    "house_data.shape"
   ]
  },
  {
   "cell_type": "markdown",
   "metadata": {},
   "source": [
    "# FEATURE DESCRIPTION\n",
    " - id : id is genereated for uniquely identifying the each row of data after train and test split\n",
    " - sqft : area of the plot in square feet\n",
    " - bhk : no of bathroom/kitchen/hall in the plot\n",
    " - neighbourhood : gives description about the neighbourhood/ locality of house\n",
    " - location : simply location of house\n",
    " - price : this is the label for which we will be predicting."
   ]
  },
  {
   "cell_type": "code",
   "execution_count": 7,
   "metadata": {},
   "outputs": [
    {
     "data": {
      "text/plain": [
       "id                int64\n",
       "sqft              int64\n",
       "bhk              object\n",
       "type             object\n",
       "neighbourhood    object\n",
       "location         object\n",
       "price             int64\n",
       "dtype: object"
      ]
     },
     "execution_count": 7,
     "metadata": {},
     "output_type": "execute_result"
    }
   ],
   "source": [
    "house_data.dtypes"
   ]
  },
  {
   "cell_type": "code",
   "execution_count": 8,
   "metadata": {
    "collapsed": true
   },
   "outputs": [],
   "source": [
    "import matplotlib.pyplot as plt\n",
    "import seaborn as sns\n",
    "%matplotlib inline"
   ]
  },
  {
   "cell_type": "markdown",
   "metadata": {},
   "source": [
    "## Spliiting data into train and test for calculating accuracy 70:30"
   ]
  },
  {
   "cell_type": "code",
   "execution_count": 9,
   "metadata": {
    "collapsed": true
   },
   "outputs": [],
   "source": [
    "X_train, X_test, y_train, y_test = train_test_split(house_data.iloc[:,0:6],house_data.price, random_state=0)"
   ]
  },
  {
   "cell_type": "code",
   "execution_count": 10,
   "metadata": {},
   "outputs": [
    {
     "name": "stdout",
     "output_type": "stream",
     "text": [
      " shape of x_train (1410, 6)\n",
      " shape of x_test (470, 6) \n",
      " shape of y_train (1410,) \n",
      " shape of y_test (470,) \n"
     ]
    }
   ],
   "source": [
    "print(\" shape of x_train {}\\n shape of x_test {} \\n shape of y_train {} \\n shape of y_test {} \".format(\n",
    "X_train.shape, X_test.shape, y_train.shape, y_test.shape))"
   ]
  },
  {
   "cell_type": "code",
   "execution_count": 11,
   "metadata": {
    "collapsed": true
   },
   "outputs": [],
   "source": [
    "#X_train =  pd.DataFrame(X_train)\n",
    "#y_train =  pd.DataFrame(y_train)\n",
    "#X_test =  pd.DataFrame(X_test)\n",
    "#y_test =  pd.DataFrame(y_test)"
   ]
  },
  {
   "cell_type": "code",
   "execution_count": 12,
   "metadata": {},
   "outputs": [
    {
     "data": {
      "text/plain": [
       "1339     5800000\n",
       "977     12500000\n",
       "1415     5000000\n",
       "1355     5000000\n",
       "1593    30000000\n",
       "Name: price, dtype: int64"
      ]
     },
     "execution_count": 12,
     "metadata": {},
     "output_type": "execute_result"
    }
   ],
   "source": [
    "y_train.head()"
   ]
  },
  {
   "cell_type": "code",
   "execution_count": 13,
   "metadata": {},
   "outputs": [
    {
     "data": {
      "text/plain": [
       "511     5000000\n",
       "124     8800000\n",
       "217     3850000\n",
       "1426    6980000\n",
       "891     6500000\n",
       "Name: price, dtype: int64"
      ]
     },
     "execution_count": 13,
     "metadata": {},
     "output_type": "execute_result"
    }
   ],
   "source": [
    "y_test.head()"
   ]
  },
  {
   "cell_type": "markdown",
   "metadata": {},
   "source": [
    "## Exploratory Data Analysis \n",
    "### Here we will look for statistics of data rows and columns \n",
    "### Summary of test and train dataset"
   ]
  },
  {
   "cell_type": "code",
   "execution_count": 14,
   "metadata": {},
   "outputs": [
    {
     "data": {
      "text/html": [
       "<div>\n",
       "<style>\n",
       "    .dataframe thead tr:only-child th {\n",
       "        text-align: right;\n",
       "    }\n",
       "\n",
       "    .dataframe thead th {\n",
       "        text-align: left;\n",
       "    }\n",
       "\n",
       "    .dataframe tbody tr th {\n",
       "        vertical-align: top;\n",
       "    }\n",
       "</style>\n",
       "<table border=\"1\" class=\"dataframe\">\n",
       "  <thead>\n",
       "    <tr style=\"text-align: right;\">\n",
       "      <th></th>\n",
       "      <th>id</th>\n",
       "      <th>sqft</th>\n",
       "    </tr>\n",
       "  </thead>\n",
       "  <tbody>\n",
       "    <tr>\n",
       "      <th>count</th>\n",
       "      <td>1410.000000</td>\n",
       "      <td>1410.000000</td>\n",
       "    </tr>\n",
       "    <tr>\n",
       "      <th>mean</th>\n",
       "      <td>951.549645</td>\n",
       "      <td>1657.835461</td>\n",
       "    </tr>\n",
       "    <tr>\n",
       "      <th>std</th>\n",
       "      <td>542.532228</td>\n",
       "      <td>791.357927</td>\n",
       "    </tr>\n",
       "    <tr>\n",
       "      <th>min</th>\n",
       "      <td>1.000000</td>\n",
       "      <td>10.000000</td>\n",
       "    </tr>\n",
       "    <tr>\n",
       "      <th>25%</th>\n",
       "      <td>481.500000</td>\n",
       "      <td>1200.000000</td>\n",
       "    </tr>\n",
       "    <tr>\n",
       "      <th>50%</th>\n",
       "      <td>953.500000</td>\n",
       "      <td>1512.000000</td>\n",
       "    </tr>\n",
       "    <tr>\n",
       "      <th>75%</th>\n",
       "      <td>1422.750000</td>\n",
       "      <td>1899.000000</td>\n",
       "    </tr>\n",
       "    <tr>\n",
       "      <th>max</th>\n",
       "      <td>1879.000000</td>\n",
       "      <td>5000.000000</td>\n",
       "    </tr>\n",
       "  </tbody>\n",
       "</table>\n",
       "</div>"
      ],
      "text/plain": [
       "                id         sqft\n",
       "count  1410.000000  1410.000000\n",
       "mean    951.549645  1657.835461\n",
       "std     542.532228   791.357927\n",
       "min       1.000000    10.000000\n",
       "25%     481.500000  1200.000000\n",
       "50%     953.500000  1512.000000\n",
       "75%    1422.750000  1899.000000\n",
       "max    1879.000000  5000.000000"
      ]
     },
     "execution_count": 14,
     "metadata": {},
     "output_type": "execute_result"
    }
   ],
   "source": [
    "X_train.describe()"
   ]
  },
  {
   "cell_type": "code",
   "execution_count": 15,
   "metadata": {},
   "outputs": [
    {
     "data": {
      "text/html": [
       "<div>\n",
       "<style>\n",
       "    .dataframe thead tr:only-child th {\n",
       "        text-align: right;\n",
       "    }\n",
       "\n",
       "    .dataframe thead th {\n",
       "        text-align: left;\n",
       "    }\n",
       "\n",
       "    .dataframe tbody tr th {\n",
       "        vertical-align: top;\n",
       "    }\n",
       "</style>\n",
       "<table border=\"1\" class=\"dataframe\">\n",
       "  <thead>\n",
       "    <tr style=\"text-align: right;\">\n",
       "      <th></th>\n",
       "      <th>id</th>\n",
       "      <th>sqft</th>\n",
       "    </tr>\n",
       "  </thead>\n",
       "  <tbody>\n",
       "    <tr>\n",
       "      <th>count</th>\n",
       "      <td>470.000000</td>\n",
       "      <td>470.000000</td>\n",
       "    </tr>\n",
       "    <tr>\n",
       "      <th>mean</th>\n",
       "      <td>907.351064</td>\n",
       "      <td>1628.517021</td>\n",
       "    </tr>\n",
       "    <tr>\n",
       "      <th>std</th>\n",
       "      <td>543.045034</td>\n",
       "      <td>823.768939</td>\n",
       "    </tr>\n",
       "    <tr>\n",
       "      <th>min</th>\n",
       "      <td>2.000000</td>\n",
       "      <td>10.000000</td>\n",
       "    </tr>\n",
       "    <tr>\n",
       "      <th>25%</th>\n",
       "      <td>448.500000</td>\n",
       "      <td>1100.000000</td>\n",
       "    </tr>\n",
       "    <tr>\n",
       "      <th>50%</th>\n",
       "      <td>898.500000</td>\n",
       "      <td>1500.000000</td>\n",
       "    </tr>\n",
       "    <tr>\n",
       "      <th>75%</th>\n",
       "      <td>1372.500000</td>\n",
       "      <td>1942.000000</td>\n",
       "    </tr>\n",
       "    <tr>\n",
       "      <th>max</th>\n",
       "      <td>1880.000000</td>\n",
       "      <td>5000.000000</td>\n",
       "    </tr>\n",
       "  </tbody>\n",
       "</table>\n",
       "</div>"
      ],
      "text/plain": [
       "                id         sqft\n",
       "count   470.000000   470.000000\n",
       "mean    907.351064  1628.517021\n",
       "std     543.045034   823.768939\n",
       "min       2.000000    10.000000\n",
       "25%     448.500000  1100.000000\n",
       "50%     898.500000  1500.000000\n",
       "75%    1372.500000  1942.000000\n",
       "max    1880.000000  5000.000000"
      ]
     },
     "execution_count": 15,
     "metadata": {},
     "output_type": "execute_result"
    }
   ],
   "source": [
    "X_test.describe()"
   ]
  },
  {
   "cell_type": "code",
   "execution_count": 16,
   "metadata": {},
   "outputs": [
    {
     "data": {
      "text/plain": [
       "count    1.410000e+03\n",
       "mean     1.010894e+07\n",
       "std      1.014687e+07\n",
       "min      2.000000e+06\n",
       "25%      5.500000e+06\n",
       "50%      7.500000e+06\n",
       "75%      1.250000e+07\n",
       "max      2.000000e+08\n",
       "Name: price, dtype: float64"
      ]
     },
     "execution_count": 16,
     "metadata": {},
     "output_type": "execute_result"
    }
   ],
   "source": [
    "y_train.describe()"
   ]
  },
  {
   "cell_type": "code",
   "execution_count": 17,
   "metadata": {},
   "outputs": [
    {
     "data": {
      "text/plain": [
       "count    4.700000e+02\n",
       "mean     9.400745e+06\n",
       "std      6.698221e+06\n",
       "min      1.800000e+06\n",
       "25%      5.200000e+06\n",
       "50%      7.500000e+06\n",
       "75%      1.150000e+07\n",
       "max      5.000000e+07\n",
       "Name: price, dtype: float64"
      ]
     },
     "execution_count": 17,
     "metadata": {},
     "output_type": "execute_result"
    }
   ],
   "source": [
    "y_test.describe()"
   ]
  },
  {
   "cell_type": "markdown",
   "metadata": {},
   "source": [
    "## Account for categorical variables \n",
    " ### clearly it has 4 categorical variables to be handled seperately"
   ]
  },
  {
   "cell_type": "code",
   "execution_count": 18,
   "metadata": {},
   "outputs": [
    {
     "name": "stdout",
     "output_type": "stream",
     "text": [
      "Index(['bhk', 'type', 'neighbourhood', 'location'], dtype='object')\n"
     ]
    }
   ],
   "source": [
    "#categorical variables\n",
    "categorical_variables=X_train.dtypes.loc[X_train.dtypes=='object'].index\n",
    "print(categorical_variables)"
   ]
  },
  {
   "cell_type": "code",
   "execution_count": 19,
   "metadata": {},
   "outputs": [
    {
     "data": {
      "text/plain": [
       "bhk              10\n",
       "type              8\n",
       "neighbourhood    78\n",
       "location         16\n",
       "dtype: int64"
      ]
     },
     "execution_count": 19,
     "metadata": {},
     "output_type": "execute_result"
    }
   ],
   "source": [
    "#no of unique values\n",
    "X_train[categorical_variables].apply(lambda x:len(x.unique()))"
   ]
  },
  {
   "cell_type": "code",
   "execution_count": 20,
   "metadata": {},
   "outputs": [
    {
     "data": {
      "text/plain": [
       "3          661\n",
       "2          347\n",
       "4          311\n",
       "5           43\n",
       " Studio     13\n",
       "10          12\n",
       " >           8\n",
       "6            6\n",
       "1            5\n",
       "8            4\n",
       "Name: bhk, dtype: int64"
      ]
     },
     "execution_count": 20,
     "metadata": {},
     "output_type": "execute_result"
    }
   ],
   "source": [
    "#value_counts()\n",
    "X_train['bhk'].value_counts()"
   ]
  },
  {
   "cell_type": "code",
   "execution_count": 21,
   "metadata": {},
   "outputs": [
    {
     "data": {
      "text/plain": [
       "3          0.468794\n",
       "2          0.246099\n",
       "4          0.220567\n",
       "5          0.030496\n",
       " Studio    0.009220\n",
       "10         0.008511\n",
       " >         0.005674\n",
       "6          0.004255\n",
       "1          0.003546\n",
       "8          0.002837\n",
       "Name: bhk, dtype: float64"
      ]
     },
     "execution_count": 21,
     "metadata": {},
     "output_type": "execute_result"
    }
   ],
   "source": [
    "X_train['bhk'].value_counts()/X_train.shape[0]"
   ]
  },
  {
   "cell_type": "code",
   "execution_count": 22,
   "metadata": {},
   "outputs": [
    {
     "data": {
      "text/plain": [
       " Apartment         697\n",
       " House             424\n",
       " Villa             194\n",
       " Builder            39\n",
       " Penthouse          20\n",
       " Flat/Apartment     15\n",
       " for                13\n",
       " BHK                 8\n",
       "Name: type, dtype: int64"
      ]
     },
     "execution_count": 22,
     "metadata": {},
     "output_type": "execute_result"
    }
   ],
   "source": [
    "X_train['type'].value_counts()"
   ]
  },
  {
   "cell_type": "code",
   "execution_count": 23,
   "metadata": {},
   "outputs": [
    {
     "data": {
      "text/plain": [
       " Apartment         0.494326\n",
       " House             0.300709\n",
       " Villa             0.137589\n",
       " Builder           0.027660\n",
       " Penthouse         0.014184\n",
       " Flat/Apartment    0.010638\n",
       " for               0.009220\n",
       " BHK               0.005674\n",
       "Name: type, dtype: float64"
      ]
     },
     "execution_count": 23,
     "metadata": {},
     "output_type": "execute_result"
    }
   ],
   "source": [
    "X_train['type'].value_counts()/X_train.shape[0]"
   ]
  },
  {
   "cell_type": "code",
   "execution_count": 24,
   "metadata": {},
   "outputs": [
    {
     "data": {
      "text/plain": [
       " Kochi                      347\n",
       " DLF New Town Heights       120\n",
       " Thrippunithura              82\n",
       " Kakkanad                    75\n",
       " Kaloor                      52\n",
       " Vazhakkala                  42\n",
       " Aluva                       30\n",
       " Vyttila                     29\n",
       " Lisy Junction               28\n",
       " Skyline Spectra             27\n",
       " Nedumbassery                25\n",
       " Jairaj Spectrum             25\n",
       " Netoor                      25\n",
       " Asset E Valley              24\n",
       " Kristal Ruby                24\n",
       " Glass House                 23\n",
       " Noel Signature              23\n",
       " Kandanad                    22\n",
       " Green Vistas Prakrriti      21\n",
       " Kundanoor                   21\n",
       " Ebony Estate                21\n",
       " Edappally                   20\n",
       " Vypin                       18\n",
       " South Chittoor Road         14\n",
       " Puthen Krishu               14\n",
       " Kangarappady                14\n",
       " Trinity High Grove          14\n",
       " Athani                      14\n",
       " Aqua City                   13\n",
       " Palarivattom                13\n",
       "                           ... \n",
       " Puravankra Moonreach         4\n",
       " Tower Of Faith               4\n",
       " Pearls Garden View           4\n",
       " DD Green Woods               4\n",
       " Fern Icon                    3\n",
       " Kolenchery                   2\n",
       " Kent Mahal                   2\n",
       " Purva Eternity               2\n",
       " Panampily Nagar              2\n",
       " Kalamasery                   2\n",
       " Asset Summit Suites          2\n",
       " Hoysala Royal Heights        2\n",
       " Confident Atria III          1\n",
       " Ginger County                1\n",
       " Coral Cove                   1\n",
       " Oxoniya Riviera Mansion      1\n",
       " Noel Song                    1\n",
       " Purva Oceana                 1\n",
       " Trinity World Mercury        1\n",
       " Angamali                     1\n",
       " EV Kingston Towers           1\n",
       " Marina One                   1\n",
       " Padamugal                    1\n",
       " DLF Riverside                1\n",
       " Regal Valencia               1\n",
       " DD Diamond Valley            1\n",
       " Manjummal                    1\n",
       " DD Highway Proxima           1\n",
       " Ivy League                   1\n",
       " Elamakkara                   1\n",
       "Name: neighbourhood, Length: 78, dtype: int64"
      ]
     },
     "execution_count": 24,
     "metadata": {},
     "output_type": "execute_result"
    }
   ],
   "source": [
    "X_train['neighbourhood'].value_counts()"
   ]
  },
  {
   "cell_type": "code",
   "execution_count": 25,
   "metadata": {},
   "outputs": [
    {
     "data": {
      "text/plain": [
       " Kochi                      0.246099\n",
       " DLF New Town Heights       0.085106\n",
       " Thrippunithura             0.058156\n",
       " Kakkanad                   0.053191\n",
       " Kaloor                     0.036879\n",
       " Vazhakkala                 0.029787\n",
       " Aluva                      0.021277\n",
       " Vyttila                    0.020567\n",
       " Lisy Junction              0.019858\n",
       " Skyline Spectra            0.019149\n",
       " Nedumbassery               0.017730\n",
       " Jairaj Spectrum            0.017730\n",
       " Netoor                     0.017730\n",
       " Asset E Valley             0.017021\n",
       " Kristal Ruby               0.017021\n",
       " Glass House                0.016312\n",
       " Noel Signature             0.016312\n",
       " Kandanad                   0.015603\n",
       " Green Vistas Prakrriti     0.014894\n",
       " Kundanoor                  0.014894\n",
       " Ebony Estate               0.014894\n",
       " Edappally                  0.014184\n",
       " Vypin                      0.012766\n",
       " South Chittoor Road        0.009929\n",
       " Puthen Krishu              0.009929\n",
       " Kangarappady               0.009929\n",
       " Trinity High Grove         0.009929\n",
       " Athani                     0.009929\n",
       " Aqua City                  0.009220\n",
       " Palarivattom               0.009220\n",
       "                              ...   \n",
       " Puravankra Moonreach       0.002837\n",
       " Tower Of Faith             0.002837\n",
       " Pearls Garden View         0.002837\n",
       " DD Green Woods             0.002837\n",
       " Fern Icon                  0.002128\n",
       " Kolenchery                 0.001418\n",
       " Kent Mahal                 0.001418\n",
       " Purva Eternity             0.001418\n",
       " Panampily Nagar            0.001418\n",
       " Kalamasery                 0.001418\n",
       " Asset Summit Suites        0.001418\n",
       " Hoysala Royal Heights      0.001418\n",
       " Confident Atria III        0.000709\n",
       " Ginger County              0.000709\n",
       " Coral Cove                 0.000709\n",
       " Oxoniya Riviera Mansion    0.000709\n",
       " Noel Song                  0.000709\n",
       " Purva Oceana               0.000709\n",
       " Trinity World Mercury      0.000709\n",
       " Angamali                   0.000709\n",
       " EV Kingston Towers         0.000709\n",
       " Marina One                 0.000709\n",
       " Padamugal                  0.000709\n",
       " DLF Riverside              0.000709\n",
       " Regal Valencia             0.000709\n",
       " DD Diamond Valley          0.000709\n",
       " Manjummal                  0.000709\n",
       " DD Highway Proxima         0.000709\n",
       " Ivy League                 0.000709\n",
       " Elamakkara                 0.000709\n",
       "Name: neighbourhood, Length: 78, dtype: float64"
      ]
     },
     "execution_count": 25,
     "metadata": {},
     "output_type": "execute_result"
    }
   ],
   "source": [
    "X_train['neighbourhood'].value_counts()/X_train.shape[0]"
   ]
  },
  {
   "cell_type": "code",
   "execution_count": 26,
   "metadata": {},
   "outputs": [
    {
     "data": {
      "text/plain": [
       " Kochi             958\n",
       " Kakkanad          217\n",
       " Thrikkakara       106\n",
       " Aluva              28\n",
       " Vyttila            24\n",
       " Kaloor             24\n",
       " Kadavanthra        16\n",
       " Thrippunithura     12\n",
       " Angamali            6\n",
       " Vazhakkala          6\n",
       " Alwaye              4\n",
       " Kalamasery          2\n",
       " Kundanoor           2\n",
       " Edappally           2\n",
       " Marine Drive        2\n",
       " Kolenchery          1\n",
       "Name: location, dtype: int64"
      ]
     },
     "execution_count": 26,
     "metadata": {},
     "output_type": "execute_result"
    }
   ],
   "source": [
    "X_train['location'].value_counts()"
   ]
  },
  {
   "cell_type": "code",
   "execution_count": 27,
   "metadata": {},
   "outputs": [
    {
     "data": {
      "text/plain": [
       " Kochi             0.679433\n",
       " Kakkanad          0.153901\n",
       " Thrikkakara       0.075177\n",
       " Aluva             0.019858\n",
       " Vyttila           0.017021\n",
       " Kaloor            0.017021\n",
       " Kadavanthra       0.011348\n",
       " Thrippunithura    0.008511\n",
       " Angamali          0.004255\n",
       " Vazhakkala        0.004255\n",
       " Alwaye            0.002837\n",
       " Kalamasery        0.001418\n",
       " Kundanoor         0.001418\n",
       " Edappally         0.001418\n",
       " Marine Drive      0.001418\n",
       " Kolenchery        0.000709\n",
       "Name: location, dtype: float64"
      ]
     },
     "execution_count": 27,
     "metadata": {},
     "output_type": "execute_result"
    }
   ],
   "source": [
    "X_train['location'].value_counts()/X_train.shape[0]"
   ]
  },
  {
   "cell_type": "markdown",
   "metadata": {},
   "source": [
    "## Cleaning data \n",
    "- for bhk as new 'studio' and '>' are new category which needs to imputed by mode of their category\n",
    "- for type as new 'for' and 'bhk' are new category which also be imputed by mode of type category\n",
    "as these are not relevant to modelling\n"
   ]
  },
  {
   "cell_type": "markdown",
   "metadata": {},
   "source": [
    "## Creating 2 way table to look for 'type' vs 'bhk' "
   ]
  },
  {
   "cell_type": "code",
   "execution_count": 28,
   "metadata": {},
   "outputs": [
    {
     "name": "stdout",
     "output_type": "stream",
     "text": [
      "bhk               >   Studio  1  10    2    3    4   5  6  8   All\n",
      "type                                                              \n",
      " Apartment        0        0  5   0  236  375   76   1  0  4   697\n",
      " BHK              8        0  0   0    0    0    0   0  0  0     8\n",
      " Builder          0        0  0   0   31    8    0   0  0  0    39\n",
      " Flat/Apartment   0        0  0   0    3   12    0   0  0  0    15\n",
      " House            0        0  0  12   71  186  115  39  1  0   424\n",
      " Penthouse        0        0  0   0    0    0   20   0  0  0    20\n",
      " Villa            0        0  0   0    6   80  100   3  5  0   194\n",
      " for              0       13  0   0    0    0    0   0  0  0    13\n",
      "All               8       13  5  12  347  661  311  43  6  4  1410\n"
     ]
    }
   ],
   "source": [
    "#print cross tabulation\n",
    "ct=pd.crosstab(X_train['type'],X_train['bhk'],margins='true')\n",
    "print(ct)"
   ]
  },
  {
   "cell_type": "code",
   "execution_count": 68,
   "metadata": {},
   "outputs": [
    {
     "data": {
      "text/plain": [
       "<matplotlib.axes._subplots.AxesSubplot at 0xd64e726d30>"
      ]
     },
     "execution_count": 68,
     "metadata": {},
     "output_type": "execute_result"
    },
    {
     "data": {
      "image/png": "[encoded data removed]",
      "text/plain": [
       "<matplotlib.figure.Figure at 0xd64ef9cda0>"
      ]
     },
     "metadata": {},
     "output_type": "display_data"
    }
   ],
   "source": [
    "%matplotlib inline\n",
    "ct.iloc[:-1,:-1].plot(kind='bar',stacked=True ,color=['blue','green','red','violet','indigo','yellow',\n",
    "                                                      'grey','orange','black','brown'],grid=True,figsize = (12,6))"
   ]
  },
  {
   "cell_type": "markdown",
   "metadata": {},
   "source": [
    "## Scatter plot for visualising the trends between 'square feet area' vs 'prices'\n",
    " we can clearly infer from this scatter plot that most of the houses\n",
    " - have areas between 1000-2000 sqft \n",
    " - have prices in ranges close to (0.1-0.3)*10^8 rupees"
   ]
  },
  {
   "cell_type": "code",
   "execution_count": 69,
   "metadata": {},
   "outputs": [
    {
     "data": {
      "text/plain": [
       "<matplotlib.axes._subplots.AxesSubplot at 0xd64f0c8b00>"
      ]
     },
     "execution_count": 69,
     "metadata": {},
     "output_type": "execute_result"
    },
    {
     "data": {
      "image/png": "[encoded data removed]",
      "text/plain": [
       "<matplotlib.figure.Figure at 0xd64e632320>"
      ]
     },
     "metadata": {},
     "output_type": "display_data"
    }
   ],
   "source": [
    "house_data.plot('sqft','price',kind='scatter',color='green',figsize = (12,6))"
   ]
  },
  {
   "cell_type": "markdown",
   "metadata": {},
   "source": [
    "## check for any MISSING values\n",
    "there is none"
   ]
  },
  {
   "cell_type": "code",
   "execution_count": 31,
   "metadata": {},
   "outputs": [
    {
     "data": {
      "text/plain": [
       "id               0\n",
       "sqft             0\n",
       "bhk              0\n",
       "type             0\n",
       "neighbourhood    0\n",
       "location         0\n",
       "price            0\n",
       "dtype: int64"
      ]
     },
     "execution_count": 31,
     "metadata": {},
     "output_type": "execute_result"
    }
   ],
   "source": [
    "house_data.apply(lambda x:sum(x.isnull()))"
   ]
  },
  {
   "cell_type": "markdown",
   "metadata": {},
   "source": [
    "# MODELLING\n",
    "## LINEAR REGRESSION\n",
    "Here we are taking only sqft as x axis and yaxis as price"
   ]
  },
  {
   "cell_type": "code",
   "execution_count": 32,
   "metadata": {
    "collapsed": true
   },
   "outputs": [],
   "source": [
    "#X_train['sqft'].values.reshape(len(X_train['sqft']),1)\n",
    "#X_test['sqft'].values.reshape(len(X_test['sqft']),1)\n",
    "#y_train.values.reshape(len(y_train),1)\n",
    "#y_test.values.reshape(len(y_test),1)"
   ]
  },
  {
   "cell_type": "code",
   "execution_count": 33,
   "metadata": {
    "collapsed": true
   },
   "outputs": [],
   "source": [
    "def simple_linear_regression(input_feature,output):\n",
    "    num=np.mean((input_feature*output),axis=0)-(np.mean(output,axis=0)*np.mean(input_feature,axis=0))\n",
    "    den=np.mean((input_feature**2),axis=0) - (np.mean(input_feature,axis=0) * np.mean(input_feature,axis=0))\n",
    "    slope=num/den\n",
    "    intercept = output.mean(axis=0) - slope * (input_feature.mean(axis=0))\n",
    "    return (intercept,slope)"
   ]
  },
  {
   "cell_type": "code",
   "execution_count": 34,
   "metadata": {
    "collapsed": true
   },
   "outputs": [],
   "source": [
    "sqft_living = X_train['sqft']\n",
    "#price = y_train\n",
    "sqft_living_list = [i for i in X_train['sqft']]\n",
    "sqft_living_array = np.array(sqft_living_list)\n",
    "\n",
    "\n",
    "price_list = [m for m in y_train]\n",
    "price_list_array = np.array(price_list)\n",
    "#squarefeet_intercept,squarfeet_slope = simple_linear_regression(sqft_living,price)\n",
    "intercept_train,slope_train = simple_linear_regression(sqft_living_array, price_list_array)"
   ]
  },
  {
   "cell_type": "code",
   "execution_count": 35,
   "metadata": {},
   "outputs": [
    {
     "name": "stdout",
     "output_type": "stream",
     "text": [
      "intercept and slope resp.: 8775242.29399, 804.483313913\n"
     ]
    }
   ],
   "source": [
    "print(\"intercept and slope resp.: %s, %s\"%(intercept_train,slope_train))"
   ]
  },
  {
   "cell_type": "markdown",
   "metadata": {},
   "source": [
    "## Get any predictions from here"
   ]
  },
  {
   "cell_type": "code",
   "execution_count": 36,
   "metadata": {
    "collapsed": true
   },
   "outputs": [],
   "source": [
    "def get_regression_predictions(input_feature, intercept, slope):\n",
    "    predicted_output = intercept + input_feature * slope\n",
    "    return(predicted_output)"
   ]
  },
  {
   "cell_type": "markdown",
   "metadata": {},
   "source": [
    "### If sqft =2650 , then what is the prediction for this"
   ]
  },
  {
   "cell_type": "code",
   "execution_count": 37,
   "metadata": {},
   "outputs": [
    {
     "name": "stdout",
     "output_type": "stream",
     "text": [
      "10907123.0759\n"
     ]
    }
   ],
   "source": [
    "print(get_regression_predictions(2650,intercept_train,slope_train))"
   ]
  },
  {
   "cell_type": "markdown",
   "metadata": {},
   "source": [
    "## Metrics for fit of the line is RSS residual sum of squares"
   ]
  },
  {
   "cell_type": "code",
   "execution_count": 38,
   "metadata": {
    "collapsed": true
   },
   "outputs": [],
   "source": [
    "def get_residual_sum_of_squares(input_feature, output, intercept,slope):\n",
    "    RSS=np.sum(np.square((intercept+(slope*input_feature))-(output)),axis=0)   \n",
    "    return(RSS)"
   ]
  },
  {
   "cell_type": "code",
   "execution_count": 39,
   "metadata": {},
   "outputs": [
    {
     "name": "stdout",
     "output_type": "stream",
     "text": [
      "1.4449825308653994e+17\n"
     ]
    }
   ],
   "source": [
    "print (get_residual_sum_of_squares(sqft_living,y_train,intercept_train,slope_train))"
   ]
  },
  {
   "cell_type": "markdown",
   "metadata": {},
   "source": [
    "## USING sklearn's Linear Model to fit  model"
   ]
  },
  {
   "cell_type": "code",
   "execution_count": 40,
   "metadata": {
    "collapsed": true
   },
   "outputs": [],
   "source": [
    "from sklearn.metrics import mean_squared_error, r2_score\n",
    "from sklearn import linear_model\n",
    "dependent_var=y_train\n",
    "independent_var=X_train.sqft"
   ]
  },
  {
   "cell_type": "code",
   "execution_count": 41,
   "metadata": {},
   "outputs": [
    {
     "data": {
      "text/plain": [
       "LinearRegression(copy_X=True, fit_intercept=True, n_jobs=1, normalize=False)"
      ]
     },
     "execution_count": 41,
     "metadata": {},
     "output_type": "execute_result"
    }
   ],
   "source": [
    "# initialize algorithms \n",
    "model=LinearRegression()\n",
    "model.fit(independent_var.values.reshape((1410,1)),dependent_var)"
   ]
  },
  {
   "cell_type": "code",
   "execution_count": 42,
   "metadata": {
    "collapsed": true
   },
   "outputs": [],
   "source": [
    "#make predictions\n",
    "predict_train=model.predict(independent_var.values.reshape((1410,1)))\n",
    "predict_test=model.predict(X_test.sqft.values.reshape((470,1)))"
   ]
  },
  {
   "cell_type": "code",
   "execution_count": 43,
   "metadata": {},
   "outputs": [
    {
     "name": "stdout",
     "output_type": "stream",
     "text": [
      "Coefficients: \n",
      " [ 804.48331391]\n"
     ]
    }
   ],
   "source": [
    "# The coefficients\n",
    "print('Coefficients: \\n', model.coef_)"
   ]
  },
  {
   "cell_type": "code",
   "execution_count": 44,
   "metadata": {},
   "outputs": [
    {
     "name": "stdout",
     "output_type": "stream",
     "text": [
      "Mean squared error: 45661783339603.02\n",
      "Variance score: -0.02\n"
     ]
    }
   ],
   "source": [
    "print(\"Mean squared error: %.2f\"\n",
    "      % mean_squared_error(y_test, predict_test))\n",
    "# Explained variance score: 1 is perfect prediction\n",
    "print('Variance score: %.2f' % r2_score(y_test, predict_test))\n"
   ]
  },
  {
   "cell_type": "code",
   "execution_count": 45,
   "metadata": {},
   "outputs": [
    {
     "data": {
      "text/plain": [
       "array([  9740622.27068785,   9844400.61818267,  10786450.57877519,\n",
       "        10135623.5778193 ,  10384208.92181852,  10142863.92764452,\n",
       "        10706002.24738386,   9660173.93929652,  10706002.24738386,\n",
       "         9800958.51923135,   9725337.0877235 ,  10119533.91154103,\n",
       "         9559613.52505735,  12549878.00287323,   9434918.61140078,\n",
       "         9619949.77360085,  10085745.61235667,  11108243.90434053,\n",
       "         9579725.60790518,  10142863.92764452,  12069601.46446697,\n",
       "         9857272.35120529,  10907123.07586219,  10384208.92181852,\n",
       "         9418828.94512252,  10303760.59042719,   9773606.0865583 ,\n",
       "         9499277.27651385,  11027795.57294919,   8936138.95677451,\n",
       "        10142863.92764452,   9901518.93347052,  10135623.5778193 ,\n",
       "         9097035.61955718,  11993175.5496452 ,  10042303.51340535,\n",
       "         9507322.10965298,  10142863.92764452,  10295715.75728806,\n",
       "         9362515.11314858,  10786450.57877519,  10223312.25903586,\n",
       "         9418828.94512252,   8936138.95677451,  10384208.92181852,\n",
       "         9660173.93929652,   9901518.93347052,   9981967.26486185,\n",
       "         9660173.93929652,  10625553.91599252,  11522552.8110059 ,\n",
       "         9619949.77360085,   9740622.27068785,  10384208.92181852,\n",
       "         9434918.61140078,  10042303.51340535,  10786450.57877519,\n",
       "         9734186.40417654,  10142863.92764452,   9800958.51923135,\n",
       "         9097035.61955718,   9981967.26486185,  10786450.57877519,\n",
       "        10706002.24738386,  10746226.41307953,   9499277.27651385,\n",
       "         9660173.93929652,  10247446.75845326,   9780846.43638352,\n",
       "         9941743.09916619,   9995643.48119838,  10706002.24738386,\n",
       "         9995643.48119838,  10384208.92181852,   9619949.77360085,\n",
       "        10122751.84479669,  10384208.92181852,  10384208.92181852,\n",
       "         9861294.76777485,   9991621.06462881,  10786450.57877519,\n",
       "        11188692.23573186,   9991621.06462881,   9773606.0865583 ,\n",
       "        11993175.5496452 ,  10786450.57877519,   9821070.60207918,\n",
       "         9858881.31783311,  12395417.20660187,  10042303.51340535,\n",
       "         9991621.06462881,   9858881.31783311,  11993175.5496452 ,\n",
       "         9418828.94512252,  10247446.75845326,  10384208.92181852,\n",
       "         9773606.0865583 ,   9531456.60907038,   9660173.93929652,\n",
       "         9901518.93347052,   9821070.60207918,  10295715.75728806,\n",
       "         9740622.27068785,   9801763.00254527,   9097035.61955718,\n",
       "        10135623.5778193 ,   9773606.0865583 ,   9800958.51923135,\n",
       "        10706002.24738386,   9619949.77360085,   9861294.76777485,\n",
       "        10384208.92181852,   9362515.11314858,   9890256.16707573,\n",
       "        10384208.92181852,  10293302.30734631,   8936138.95677451,\n",
       "         9981967.26486185,   9475142.77709645,  11430037.22990586,\n",
       "        10303760.59042719,  10384208.92181852,  10062415.59625319,\n",
       "         9338380.61373118,  10122751.84479669,   9686721.88865566,\n",
       "         9857272.35120529,  10239401.92531412,  10384208.92181852,\n",
       "        10191132.92647932,   9499277.27651385,  10384208.92181852,\n",
       "         9559613.52505735,   9418828.94512252,   9991621.06462881,\n",
       "        10302956.10711328,   9516171.42610603,   9933698.26602705,\n",
       "         9773606.0865583 ,  10295715.75728806,   9764756.77010525,\n",
       "        11993175.5496452 ,   9858881.31783311,  10384208.92181852,\n",
       "        10384208.92181852,  10142863.92764452,  10142863.92764452,\n",
       "        10303760.59042719,  10464657.25320986,  10085745.61235667,\n",
       "        10706002.24738386,  10706002.24738386,  10022191.43055752,\n",
       "         9981967.26486185,  11188692.23573186,  10142863.92764452,\n",
       "         9660173.93929652,   9740622.27068785,   9499277.27651385,\n",
       "         9579725.60790518,   9559613.52505735,   9660173.93929652,\n",
       "         9801763.00254527,   9418828.94512252,   9901518.93347052,\n",
       "         9237820.19949201,   9773606.0865583 ,  10263536.42473152,\n",
       "         9740622.27068785,   9821070.60207918,  10348811.65600634,\n",
       "         9840378.20161311,  12549878.00287323,  10706002.24738386,\n",
       "         9362515.11314858,   9998056.93114012,  11993175.5496452 ,\n",
       "        10263536.42473152,  10142863.92764452,   9418828.94512252,\n",
       "         9740622.27068785,  10247446.75845326,   9539501.44220952,\n",
       "         8783287.12713098,  10263536.42473152,  11108243.90434053,\n",
       "         9734186.40417654,  11993175.5496452 ,   9744644.68725742,\n",
       "         9161394.28467025,   9773606.0865583 ,   9890256.16707573,\n",
       "         9660173.93929652,   9362515.11314858,  10142863.92764452,\n",
       "         9861294.76777485,   8936138.95677451,   9531456.60907038,\n",
       "        10239401.92531412,  10625553.91599252,   9097035.61955718,\n",
       "         9660173.93929652,  10348811.65600634,   9362515.11314858,\n",
       "        10126774.26136625,  10062415.59625319,  10122751.84479669,\n",
       "         9804176.452487  ,  10085745.61235667,  10062415.59625319,\n",
       "         9901518.93347052,   8879825.12480058,  10303760.59042719,\n",
       "         9418828.94512252,  10348811.65600634,  10135623.5778193 ,\n",
       "         9740622.27068785,  10834719.57760999,   9362515.11314858,\n",
       "         9981967.26486185,  10706002.24738386,   9579725.60790518,\n",
       "        10097008.37875146,   9539501.44220952,  10706002.24738386,\n",
       "        10786450.57877519,  10706002.24738386,   9801763.00254527,\n",
       "        10263536.42473152,   8936138.95677451,   9844400.61818267,\n",
       "        10085745.61235667,  10947347.24155786,  10031845.23032448,\n",
       "         9948983.44899141,   9558004.55842952,   9713269.8380148 ,\n",
       "        12797658.86355854,   9571680.77476605,  10348811.65600634,\n",
       "        10022191.43055752,   9563635.94162692,  12549878.00287323,\n",
       "         9579725.60790518,   9801763.00254527,  10263536.42473152,\n",
       "         9800958.51923135,  10293302.30734631,   9901518.93347052,\n",
       "        10247446.75845326,  10247446.75845326,   9563635.94162692,\n",
       "        10384208.92181852,  10625553.91599252,  10384208.92181852,\n",
       "         9660173.93929652,   9725337.0877235 ,   8936138.95677451,\n",
       "         9740622.27068785,  12395417.20660187,  10384208.92181852,\n",
       "        10786450.57877519,  10834719.57760999,   8783287.12713098,\n",
       "        10384208.92181852,   9981967.26486185,   9744644.68725742,\n",
       "         9640061.85644868,   9362515.11314858,  10614291.14959774,\n",
       "        10293302.30734631,  10085745.61235667,  10293302.30734631,\n",
       "         9559613.52505735,   9801763.00254527,  10247446.75845326,\n",
       "        10263536.42473152,  10097008.37875146,   9579725.60790518,\n",
       "        10384208.92181852,   9773606.0865583 ,  10263536.42473152,\n",
       "         9861294.76777485,   9800958.51923135,  10706002.24738386,\n",
       "        10706002.24738386,   9563635.94162692,   9981967.26486185,\n",
       "        10191132.92647932,   9475142.77709645,  10706002.24738386,\n",
       "         9740622.27068785,  10247446.75845326,  11309364.73281886,\n",
       "         9725337.0877235 ,   9475142.77709645,  10625553.91599252,\n",
       "        10191132.92647932,   9740622.27068785,  10706002.24738386,\n",
       "         9821070.60207918,  10706002.24738386,   9804980.93580092,\n",
       "        12395417.20660187,   8936138.95677451,   9844400.61818267,\n",
       "         9861294.76777485,  11993175.5496452 ,  10135623.5778193 ,\n",
       "         9516171.42610603,  10085745.61235667,   9559613.52505735,\n",
       "         9890256.16707573,   9579725.60790518,  10295715.75728806,\n",
       "         9362515.11314858,  10295715.75728806,   9740622.27068785,\n",
       "         9579725.60790518,  10625553.91599252,  10384208.92181852,\n",
       "        10142863.92764452,  11108243.90434053,  10384208.92181852,\n",
       "        10085745.61235667,   9097035.61955718,   9804176.452487  ,\n",
       "         9804176.452487  ,   9877384.43405312,   9579725.60790518,\n",
       "        10097008.37875146,  10135623.5778193 ,  10625553.91599252,\n",
       "        10223312.25903586,   9801763.00254527,   9725337.0877235 ,\n",
       "         9619949.77360085,   9981967.26486185,   9563635.94162692,\n",
       "         9941743.09916619,   9571680.77476605,  10706002.24738386,\n",
       "        10222507.77572194,  10384208.92181852,  10384208.92181852,\n",
       "         9991621.06462881,   9725337.0877235 ,  10263536.42473152,\n",
       "         9519389.35936168,  10142863.92764452,   9844400.61818267,\n",
       "        10987571.40725353,   9804176.452487  ,  10142863.92764452,\n",
       "         9579725.60790518,  12395417.20660187,   9418828.94512252,\n",
       "        10706002.24738386,   9619949.77360085,  10263536.42473152,\n",
       "         9619949.77360085,   9362515.11314858,   9877384.43405312,\n",
       "         9725337.0877235 ,  10786450.57877519,   9418828.94512252,\n",
       "         9563635.94162692,   9821070.60207918,  11993175.5496452 ,\n",
       "        10625553.91599252,  10293302.30734631,  12549878.00287323,\n",
       "        10191132.92647932,  10085745.61235667,   9740622.27068785,\n",
       "         9563635.94162692,  10062415.59625319,   9740622.27068785,\n",
       "        11108243.90434053,   9097035.61955718,  10142863.92764452,\n",
       "         9948983.44899141,   9890256.16707573,   8936138.95677451,\n",
       "        11522552.8110059 ,  10786450.57877519,  10085745.61235667,\n",
       "        10142863.92764452,   9579725.60790518,   8783287.12713098,\n",
       "         9773606.0865583 ,   9660173.93929652,  10263536.42473152,\n",
       "        10142863.92764452,  10384208.92181852,   9418828.94512252,\n",
       "        10085745.61235667,  10263536.42473152,   9619949.77360085,\n",
       "         9686721.88865566,   9901518.93347052,   9559613.52505735,\n",
       "         9499277.27651385,   9725337.0877235 ,  10293302.30734631,\n",
       "         9579725.60790518,  10293302.30734631,   9619949.77360085,\n",
       "        10302956.10711328,  10786450.57877519,  10263536.42473152,\n",
       "         9821070.60207918,   9579725.60790518,  10384208.92181852,\n",
       "         9740622.27068785,  10706002.24738386,  10191132.92647932,\n",
       "         9858881.31783311,   9991621.06462881,   9890256.16707573,\n",
       "        12549878.00287323,  10142863.92764452,  10348811.65600634,\n",
       "         9995643.48119838,   9801763.00254527,   9941743.09916619,\n",
       "        10786450.57877519,  10142863.92764452,   9948983.44899141,\n",
       "         9619949.77360085,   9579725.60790518,   9362515.11314858,\n",
       "         9740622.27068785,  10625553.91599252,  10384208.92181852,\n",
       "         9660173.93929652,   9801763.00254527,  10384208.92181852,\n",
       "         9097035.61955718,  11993175.5496452 ,  10786450.57877519,\n",
       "         9941743.09916619,  10786450.57877519,   8783287.12713098,\n",
       "         9338380.61373118,   9097035.61955718,  11108243.90434053,\n",
       "         9740622.27068785,  10706002.24738386,   9948983.44899141,\n",
       "         9740622.27068785,   9555591.10848778,  10191132.92647932,\n",
       "         9579725.60790518,  10263536.42473152,  10348811.65600634,\n",
       "         9844400.61818267,   9660173.93929652,   9773606.0865583 ,\n",
       "         9740622.27068785,   9563635.94162692,  10293302.30734631,\n",
       "         9901518.93347052,  10786450.57877519,   9660173.93929652,\n",
       "        10293302.30734631,   9877384.43405312,   9579725.60790518,\n",
       "        10706002.24738386,   9740622.27068785])"
      ]
     },
     "execution_count": 45,
     "metadata": {},
     "output_type": "execute_result"
    }
   ],
   "source": [
    "predict_test"
   ]
  },
  {
   "cell_type": "code",
   "execution_count": 71,
   "metadata": {},
   "outputs": [
    {
     "data": {
      "text/plain": [
       "<matplotlib.collections.PathCollection at 0xd64f398be0>"
      ]
     },
     "execution_count": 71,
     "metadata": {},
     "output_type": "execute_result"
    },
    {
     "data": {
      "image/png": "[encoded data removed]",
      "text/plain": [
       "<matplotlib.figure.Figure at 0xd64f3031d0>"
      ]
     },
     "metadata": {},
     "output_type": "display_data"
    }
   ],
   "source": [
    "plt.scatter(X_test.sqft,y_test,  color='black')"
   ]
  },
  {
   "cell_type": "markdown",
   "metadata": {},
   "source": [
    "## Plot for line fitted on train set"
   ]
  },
  {
   "cell_type": "code",
   "execution_count": 47,
   "metadata": {},
   "outputs": [
    {
     "data": {
      "image/png": "[encoded data removed]",
      "text/plain": [
       "<matplotlib.figure.Figure at 0xd64e753d30>"
      ]
     },
     "metadata": {},
     "output_type": "display_data"
    }
   ],
   "source": [
    "# Plot outputs\n",
    "plt.scatter(X_train.sqft,y_train,  color='green')\n",
    "plt.plot(X_train.sqft,predict_train, color='red', linewidth=3)\n",
    "\n",
    "plt.xticks(())\n",
    "plt.yticks(())\n",
    "\n",
    "plt.show()"
   ]
  },
  {
   "cell_type": "markdown",
   "metadata": {},
   "source": [
    "## plot for line fitted on test set"
   ]
  },
  {
   "cell_type": "code",
   "execution_count": 65,
   "metadata": {},
   "outputs": [
    {
     "data": {
      "image/png": "[encoded data removed]",
      "text/plain": [
       "<matplotlib.figure.Figure at 0xd64ec67550>"
      ]
     },
     "metadata": {},
     "output_type": "display_data"
    }
   ],
   "source": [
    "# Plot outputs\n",
    "plt.scatter(X_test.sqft,y_test,  color='black')\n",
    "plt.plot(X_test.sqft,predict_test, color='blue', linewidth=3)\n",
    "\n",
    "plt.xticks(())\n",
    "plt.yticks(())\n",
    "\n",
    "plt.show()"
   ]
  },
  {
   "cell_type": "markdown",
   "metadata": {},
   "source": [
    "## SUBMIT to csv file with comparison of actual price vs predicted price for test set"
   ]
  },
  {
   "cell_type": "code",
   "execution_count": 49,
   "metadata": {
    "collapsed": true
   },
   "outputs": [],
   "source": [
    "submission=pd.DataFrame()\n",
    "submission['ID']=X_test.id\n",
    "submission['actual_price'] = y_test\n",
    "submission['predicted_price'] = predict_test\n",
    "submission.to_csv('submission_test.csv', index = False)"
   ]
  },
  {
   "cell_type": "markdown",
   "metadata": {},
   "source": [
    "## SUBMIT to csv file with comparison of actual price vs predicted price for train set"
   ]
  },
  {
   "cell_type": "code",
   "execution_count": 50,
   "metadata": {
    "collapsed": true
   },
   "outputs": [],
   "source": [
    "submission=pd.DataFrame()\n",
    "submission['ID']=X_train.id\n",
    "submission['actual_price'] = y_train\n",
    "submission['predicted_price'] = predict_train\n",
    "submission.to_csv('submission_train.csv', index = False)"
   ]
  },
  {
   "cell_type": "markdown",
   "metadata": {
    "collapsed": true
   },
   "source": [
    "# Map Neighbourhood analysis"
   ]
  },
  {
   "cell_type": "code",
   "execution_count": 72,
   "metadata": {},
   "outputs": [],
   "source": [
    "dfneighbourhoodsum=house_data.groupby('neighbourhood').sum()"
   ]
  },
  {
   "cell_type": "code",
   "execution_count": 129,
   "metadata": {},
   "outputs": [
    {
     "data": {
      "text/html": [
       "<div>\n",
       "<style>\n",
       "    .dataframe thead tr:only-child th {\n",
       "        text-align: right;\n",
       "    }\n",
       "\n",
       "    .dataframe thead th {\n",
       "        text-align: left;\n",
       "    }\n",
       "\n",
       "    .dataframe tbody tr th {\n",
       "        vertical-align: top;\n",
       "    }\n",
       "</style>\n",
       "<table border=\"1\" class=\"dataframe\">\n",
       "  <thead>\n",
       "    <tr style=\"text-align: right;\">\n",
       "      <th></th>\n",
       "      <th>id</th>\n",
       "      <th>sqft</th>\n",
       "      <th>price</th>\n",
       "    </tr>\n",
       "    <tr>\n",
       "      <th>neighbourhood</th>\n",
       "      <th></th>\n",
       "      <th></th>\n",
       "      <th></th>\n",
       "    </tr>\n",
       "  </thead>\n",
       "  <tbody>\n",
       "    <tr>\n",
       "      <th>Abad Lotus Lake</th>\n",
       "      <td>3204</td>\n",
       "      <td>6655</td>\n",
       "      <td>26800000</td>\n",
       "    </tr>\n",
       "    <tr>\n",
       "      <th>Airport Greens</th>\n",
       "      <td>7</td>\n",
       "      <td>910</td>\n",
       "      <td>3350000</td>\n",
       "    </tr>\n",
       "    <tr>\n",
       "      <th>Alba Crest</th>\n",
       "      <td>7512</td>\n",
       "      <td>17353</td>\n",
       "      <td>54400000</td>\n",
       "    </tr>\n",
       "    <tr>\n",
       "      <th>Aluva</th>\n",
       "      <td>37780</td>\n",
       "      <td>72135</td>\n",
       "      <td>299000000</td>\n",
       "    </tr>\n",
       "    <tr>\n",
       "      <th>Alwaye</th>\n",
       "      <td>31</td>\n",
       "      <td>1250</td>\n",
       "      <td>6000000</td>\n",
       "    </tr>\n",
       "    <tr>\n",
       "      <th>Amrutha Retreat</th>\n",
       "      <td>38</td>\n",
       "      <td>1520</td>\n",
       "      <td>7600000</td>\n",
       "    </tr>\n",
       "    <tr>\n",
       "      <th>Angamali</th>\n",
       "      <td>51</td>\n",
       "      <td>841</td>\n",
       "      <td>3490000</td>\n",
       "    </tr>\n",
       "    <tr>\n",
       "      <th>Aqua City</th>\n",
       "      <td>23432</td>\n",
       "      <td>44306</td>\n",
       "      <td>84400000</td>\n",
       "    </tr>\n",
       "    <tr>\n",
       "      <th>Asset E Valley</th>\n",
       "      <td>34805</td>\n",
       "      <td>60904</td>\n",
       "      <td>192500000</td>\n",
       "    </tr>\n",
       "    <tr>\n",
       "      <th>Asset Summit Suites</th>\n",
       "      <td>1070</td>\n",
       "      <td>2080</td>\n",
       "      <td>6000000</td>\n",
       "    </tr>\n",
       "  </tbody>\n",
       "</table>\n",
       "</div>"
      ],
      "text/plain": [
       "                         id   sqft      price\n",
       "neighbourhood                                \n",
       " Abad Lotus Lake       3204   6655   26800000\n",
       " Airport Greens           7    910    3350000\n",
       " Alba Crest            7512  17353   54400000\n",
       " Aluva                37780  72135  299000000\n",
       " Alwaye                  31   1250    6000000\n",
       " Amrutha Retreat         38   1520    7600000\n",
       " Angamali                51    841    3490000\n",
       " Aqua City            23432  44306   84400000\n",
       " Asset E Valley       34805  60904  192500000\n",
       " Asset Summit Suites   1070   2080    6000000"
      ]
     },
     "execution_count": 129,
     "metadata": {},
     "output_type": "execute_result"
    }
   ],
   "source": [
    "dfneighbourhoodsum[0:10]"
   ]
  },
  {
   "cell_type": "code",
   "execution_count": 83,
   "metadata": {},
   "outputs": [
    {
     "data": {
      "text/plain": [
       "<matplotlib.axes._subplots.AxesSubplot at 0xd64f999a58>"
      ]
     },
     "execution_count": 83,
     "metadata": {},
     "output_type": "execute_result"
    },
    {
     "data": {
      "image/png": "[encoded data removed]",
      "text/plain": [
       "<matplotlib.figure.Figure at 0xd64f94ff60>"
      ]
     },
     "metadata": {},
     "output_type": "display_data"
    }
   ],
   "source": [
    "dfneighbourhoodmean[0:30].plot.barh(figsize = (12,6))"
   ]
  },
  {
   "cell_type": "code",
   "execution_count": 73,
   "metadata": {},
   "outputs": [],
   "source": [
    "dfneighbourhoodmean=house_data.groupby('neighbourhood').mean()"
   ]
  },
  {
   "cell_type": "code",
   "execution_count": 79,
   "metadata": {},
   "outputs": [
    {
     "data": {
      "text/html": [
       "<div>\n",
       "<style>\n",
       "    .dataframe thead tr:only-child th {\n",
       "        text-align: right;\n",
       "    }\n",
       "\n",
       "    .dataframe thead th {\n",
       "        text-align: left;\n",
       "    }\n",
       "\n",
       "    .dataframe tbody tr th {\n",
       "        vertical-align: top;\n",
       "    }\n",
       "</style>\n",
       "<table border=\"1\" class=\"dataframe\">\n",
       "  <thead>\n",
       "    <tr style=\"text-align: right;\">\n",
       "      <th></th>\n",
       "      <th>id</th>\n",
       "      <th>sqft</th>\n",
       "      <th>price</th>\n",
       "    </tr>\n",
       "    <tr>\n",
       "      <th>neighbourhood</th>\n",
       "      <th></th>\n",
       "      <th></th>\n",
       "      <th></th>\n",
       "    </tr>\n",
       "  </thead>\n",
       "  <tbody>\n",
       "    <tr>\n",
       "      <th>Abad Lotus Lake</th>\n",
       "      <td>801.000000</td>\n",
       "      <td>1663.750000</td>\n",
       "      <td>6.700000e+06</td>\n",
       "    </tr>\n",
       "    <tr>\n",
       "      <th>Airport Greens</th>\n",
       "      <td>7.000000</td>\n",
       "      <td>910.000000</td>\n",
       "      <td>3.350000e+06</td>\n",
       "    </tr>\n",
       "    <tr>\n",
       "      <th>Alba Crest</th>\n",
       "      <td>939.000000</td>\n",
       "      <td>2169.125000</td>\n",
       "      <td>6.800000e+06</td>\n",
       "    </tr>\n",
       "    <tr>\n",
       "      <th>Aluva</th>\n",
       "      <td>839.555556</td>\n",
       "      <td>1603.000000</td>\n",
       "      <td>6.644444e+06</td>\n",
       "    </tr>\n",
       "    <tr>\n",
       "      <th>Alwaye</th>\n",
       "      <td>31.000000</td>\n",
       "      <td>1250.000000</td>\n",
       "      <td>6.000000e+06</td>\n",
       "    </tr>\n",
       "    <tr>\n",
       "      <th>Amrutha Retreat</th>\n",
       "      <td>38.000000</td>\n",
       "      <td>1520.000000</td>\n",
       "      <td>7.600000e+06</td>\n",
       "    </tr>\n",
       "    <tr>\n",
       "      <th>Angamali</th>\n",
       "      <td>51.000000</td>\n",
       "      <td>841.000000</td>\n",
       "      <td>3.490000e+06</td>\n",
       "    </tr>\n",
       "    <tr>\n",
       "      <th>Aqua City</th>\n",
       "      <td>976.333333</td>\n",
       "      <td>1846.083333</td>\n",
       "      <td>3.516667e+06</td>\n",
       "    </tr>\n",
       "    <tr>\n",
       "      <th>Asset E Valley</th>\n",
       "      <td>994.428571</td>\n",
       "      <td>1740.114286</td>\n",
       "      <td>5.500000e+06</td>\n",
       "    </tr>\n",
       "    <tr>\n",
       "      <th>Asset Summit Suites</th>\n",
       "      <td>535.000000</td>\n",
       "      <td>1040.000000</td>\n",
       "      <td>3.000000e+06</td>\n",
       "    </tr>\n",
       "  </tbody>\n",
       "</table>\n",
       "</div>"
      ],
      "text/plain": [
       "                              id         sqft         price\n",
       "neighbourhood                                              \n",
       " Abad Lotus Lake      801.000000  1663.750000  6.700000e+06\n",
       " Airport Greens         7.000000   910.000000  3.350000e+06\n",
       " Alba Crest           939.000000  2169.125000  6.800000e+06\n",
       " Aluva                839.555556  1603.000000  6.644444e+06\n",
       " Alwaye                31.000000  1250.000000  6.000000e+06\n",
       " Amrutha Retreat       38.000000  1520.000000  7.600000e+06\n",
       " Angamali              51.000000   841.000000  3.490000e+06\n",
       " Aqua City            976.333333  1846.083333  3.516667e+06\n",
       " Asset E Valley       994.428571  1740.114286  5.500000e+06\n",
       " Asset Summit Suites  535.000000  1040.000000  3.000000e+06"
      ]
     },
     "execution_count": 79,
     "metadata": {},
     "output_type": "execute_result"
    }
   ],
   "source": [
    "dfneighbourhoodmean[0:10]"
   ]
  },
  {
   "cell_type": "code",
   "execution_count": 84,
   "metadata": {},
   "outputs": [
    {
     "data": {
      "text/plain": [
       "<matplotlib.axes._subplots.AxesSubplot at 0xd64ecf0e10>"
      ]
     },
     "execution_count": 84,
     "metadata": {},
     "output_type": "execute_result"
    },
    {
     "data": {
      "image/png": "[encoded data removed]",
      "text/plain": [
       "<matplotlib.figure.Figure at 0xd64fb10208>"
      ]
     },
     "metadata": {},
     "output_type": "display_data"
    }
   ],
   "source": [
    "dfneighbourhoodsum[0:30].plot.barh(figsize = (12,6))"
   ]
  },
  {
   "cell_type": "code",
   "execution_count": 74,
   "metadata": {},
   "outputs": [],
   "source": [
    "dflocationmean=house_data.groupby('location').mean()"
   ]
  },
  {
   "cell_type": "code",
   "execution_count": 94,
   "metadata": {},
   "outputs": [
    {
     "data": {
      "text/html": [
       "<div>\n",
       "<style>\n",
       "    .dataframe thead tr:only-child th {\n",
       "        text-align: right;\n",
       "    }\n",
       "\n",
       "    .dataframe thead th {\n",
       "        text-align: left;\n",
       "    }\n",
       "\n",
       "    .dataframe tbody tr th {\n",
       "        vertical-align: top;\n",
       "    }\n",
       "</style>\n",
       "<table border=\"1\" class=\"dataframe\">\n",
       "  <thead>\n",
       "    <tr style=\"text-align: right;\">\n",
       "      <th></th>\n",
       "      <th>id</th>\n",
       "      <th>sqft</th>\n",
       "      <th>price</th>\n",
       "    </tr>\n",
       "    <tr>\n",
       "      <th>location</th>\n",
       "      <th></th>\n",
       "      <th></th>\n",
       "      <th></th>\n",
       "    </tr>\n",
       "  </thead>\n",
       "  <tbody>\n",
       "    <tr>\n",
       "      <th>Aluva</th>\n",
       "      <td>900.295455</td>\n",
       "      <td>1710.522727</td>\n",
       "      <td>3.146591e+06</td>\n",
       "    </tr>\n",
       "    <tr>\n",
       "      <th>Alwaye</th>\n",
       "      <td>810.000000</td>\n",
       "      <td>1404.250000</td>\n",
       "      <td>6.200000e+06</td>\n",
       "    </tr>\n",
       "    <tr>\n",
       "      <th>Angamali</th>\n",
       "      <td>925.000000</td>\n",
       "      <td>2356.125000</td>\n",
       "      <td>9.000000e+06</td>\n",
       "    </tr>\n",
       "    <tr>\n",
       "      <th>Edappally</th>\n",
       "      <td>297.750000</td>\n",
       "      <td>2255.000000</td>\n",
       "      <td>8.175000e+06</td>\n",
       "    </tr>\n",
       "    <tr>\n",
       "      <th>Kadavanthra</th>\n",
       "      <td>817.954545</td>\n",
       "      <td>1859.136364</td>\n",
       "      <td>8.704091e+06</td>\n",
       "    </tr>\n",
       "    <tr>\n",
       "      <th>Kakkanad</th>\n",
       "      <td>943.996575</td>\n",
       "      <td>1618.863014</td>\n",
       "      <td>6.634760e+06</td>\n",
       "    </tr>\n",
       "    <tr>\n",
       "      <th>Kalamasery</th>\n",
       "      <td>535.000000</td>\n",
       "      <td>1040.000000</td>\n",
       "      <td>3.000000e+06</td>\n",
       "    </tr>\n",
       "    <tr>\n",
       "      <th>Kaloor</th>\n",
       "      <td>1012.419355</td>\n",
       "      <td>1839.290323</td>\n",
       "      <td>6.500000e+06</td>\n",
       "    </tr>\n",
       "    <tr>\n",
       "      <th>Kochi</th>\n",
       "      <td>943.252927</td>\n",
       "      <td>1640.116315</td>\n",
       "      <td>1.101184e+07</td>\n",
       "    </tr>\n",
       "    <tr>\n",
       "      <th>Kolenchery</th>\n",
       "      <td>12.000000</td>\n",
       "      <td>2440.000000</td>\n",
       "      <td>1.500000e+07</td>\n",
       "    </tr>\n",
       "    <tr>\n",
       "      <th>Kundanoor</th>\n",
       "      <td>8.000000</td>\n",
       "      <td>1577.000000</td>\n",
       "      <td>9.800000e+06</td>\n",
       "    </tr>\n",
       "    <tr>\n",
       "      <th>Marine Drive</th>\n",
       "      <td>2.500000</td>\n",
       "      <td>2843.500000</td>\n",
       "      <td>2.755000e+07</td>\n",
       "    </tr>\n",
       "    <tr>\n",
       "      <th>Thrikkakara</th>\n",
       "      <td>985.650794</td>\n",
       "      <td>1653.650794</td>\n",
       "      <td>6.995238e+06</td>\n",
       "    </tr>\n",
       "    <tr>\n",
       "      <th>Thrippunithura</th>\n",
       "      <td>922.500000</td>\n",
       "      <td>1483.125000</td>\n",
       "      <td>1.000000e+07</td>\n",
       "    </tr>\n",
       "    <tr>\n",
       "      <th>Vazhakkala</th>\n",
       "      <td>939.000000</td>\n",
       "      <td>2169.125000</td>\n",
       "      <td>6.800000e+06</td>\n",
       "    </tr>\n",
       "    <tr>\n",
       "      <th>Vyttila</th>\n",
       "      <td>967.432432</td>\n",
       "      <td>1615.729730</td>\n",
       "      <td>2.097297e+07</td>\n",
       "    </tr>\n",
       "  </tbody>\n",
       "</table>\n",
       "</div>"
      ],
      "text/plain": [
       "                          id         sqft         price\n",
       "location                                               \n",
       " Aluva            900.295455  1710.522727  3.146591e+06\n",
       " Alwaye           810.000000  1404.250000  6.200000e+06\n",
       " Angamali         925.000000  2356.125000  9.000000e+06\n",
       " Edappally        297.750000  2255.000000  8.175000e+06\n",
       " Kadavanthra      817.954545  1859.136364  8.704091e+06\n",
       " Kakkanad         943.996575  1618.863014  6.634760e+06\n",
       " Kalamasery       535.000000  1040.000000  3.000000e+06\n",
       " Kaloor          1012.419355  1839.290323  6.500000e+06\n",
       " Kochi            943.252927  1640.116315  1.101184e+07\n",
       " Kolenchery        12.000000  2440.000000  1.500000e+07\n",
       " Kundanoor          8.000000  1577.000000  9.800000e+06\n",
       " Marine Drive       2.500000  2843.500000  2.755000e+07\n",
       " Thrikkakara      985.650794  1653.650794  6.995238e+06\n",
       " Thrippunithura   922.500000  1483.125000  1.000000e+07\n",
       " Vazhakkala       939.000000  2169.125000  6.800000e+06\n",
       " Vyttila          967.432432  1615.729730  2.097297e+07"
      ]
     },
     "execution_count": 94,
     "metadata": {},
     "output_type": "execute_result"
    }
   ],
   "source": [
    "dflocationmean"
   ]
  },
  {
   "cell_type": "code",
   "execution_count": 95,
   "metadata": {},
   "outputs": [
    {
     "data": {
      "text/plain": [
       "<matplotlib.axes._subplots.AxesSubplot at 0xd651e2c390>"
      ]
     },
     "execution_count": 95,
     "metadata": {},
     "output_type": "execute_result"
    },
    {
     "data": {
      "image/png": "[encoded data removed]",
      "text/plain": [
       "<matplotlib.figure.Figure at 0xd651e1ed30>"
      ]
     },
     "metadata": {},
     "output_type": "display_data"
    }
   ],
   "source": [
    "dflocationmean.plot.barh(figsize = (12,6))"
   ]
  },
  {
   "cell_type": "code",
   "execution_count": 75,
   "metadata": {},
   "outputs": [],
   "source": [
    "dflocationsum=house_data.groupby('location').sum()"
   ]
  },
  {
   "cell_type": "code",
   "execution_count": 96,
   "metadata": {},
   "outputs": [
    {
     "data": {
      "text/html": [
       "<div>\n",
       "<style>\n",
       "    .dataframe thead tr:only-child th {\n",
       "        text-align: right;\n",
       "    }\n",
       "\n",
       "    .dataframe thead th {\n",
       "        text-align: left;\n",
       "    }\n",
       "\n",
       "    .dataframe tbody tr th {\n",
       "        vertical-align: top;\n",
       "    }\n",
       "</style>\n",
       "<table border=\"1\" class=\"dataframe\">\n",
       "  <thead>\n",
       "    <tr style=\"text-align: right;\">\n",
       "      <th></th>\n",
       "      <th>id</th>\n",
       "      <th>sqft</th>\n",
       "      <th>price</th>\n",
       "    </tr>\n",
       "    <tr>\n",
       "      <th>location</th>\n",
       "      <th></th>\n",
       "      <th></th>\n",
       "      <th></th>\n",
       "    </tr>\n",
       "  </thead>\n",
       "  <tbody>\n",
       "    <tr>\n",
       "      <th>Aluva</th>\n",
       "      <td>39613</td>\n",
       "      <td>75263</td>\n",
       "      <td>138450000</td>\n",
       "    </tr>\n",
       "    <tr>\n",
       "      <th>Alwaye</th>\n",
       "      <td>3240</td>\n",
       "      <td>5617</td>\n",
       "      <td>24800000</td>\n",
       "    </tr>\n",
       "    <tr>\n",
       "      <th>Angamali</th>\n",
       "      <td>7400</td>\n",
       "      <td>18849</td>\n",
       "      <td>72000000</td>\n",
       "    </tr>\n",
       "    <tr>\n",
       "      <th>Edappally</th>\n",
       "      <td>1191</td>\n",
       "      <td>9020</td>\n",
       "      <td>32700000</td>\n",
       "    </tr>\n",
       "    <tr>\n",
       "      <th>Kadavanthra</th>\n",
       "      <td>17995</td>\n",
       "      <td>40901</td>\n",
       "      <td>191490000</td>\n",
       "    </tr>\n",
       "    <tr>\n",
       "      <th>Kakkanad</th>\n",
       "      <td>275647</td>\n",
       "      <td>472708</td>\n",
       "      <td>1937350000</td>\n",
       "    </tr>\n",
       "    <tr>\n",
       "      <th>Kalamasery</th>\n",
       "      <td>1070</td>\n",
       "      <td>2080</td>\n",
       "      <td>6000000</td>\n",
       "    </tr>\n",
       "    <tr>\n",
       "      <th>Kaloor</th>\n",
       "      <td>31385</td>\n",
       "      <td>57018</td>\n",
       "      <td>201500000</td>\n",
       "    </tr>\n",
       "    <tr>\n",
       "      <th>Kochi</th>\n",
       "      <td>1208307</td>\n",
       "      <td>2100989</td>\n",
       "      <td>14106169995</td>\n",
       "    </tr>\n",
       "    <tr>\n",
       "      <th>Kolenchery</th>\n",
       "      <td>12</td>\n",
       "      <td>2440</td>\n",
       "      <td>15000000</td>\n",
       "    </tr>\n",
       "    <tr>\n",
       "      <th>Kundanoor</th>\n",
       "      <td>16</td>\n",
       "      <td>3154</td>\n",
       "      <td>19600000</td>\n",
       "    </tr>\n",
       "    <tr>\n",
       "      <th>Marine Drive</th>\n",
       "      <td>5</td>\n",
       "      <td>5687</td>\n",
       "      <td>55100000</td>\n",
       "    </tr>\n",
       "    <tr>\n",
       "      <th>Thrikkakara</th>\n",
       "      <td>124192</td>\n",
       "      <td>208360</td>\n",
       "      <td>881400000</td>\n",
       "    </tr>\n",
       "    <tr>\n",
       "      <th>Thrippunithura</th>\n",
       "      <td>14760</td>\n",
       "      <td>23730</td>\n",
       "      <td>160000000</td>\n",
       "    </tr>\n",
       "    <tr>\n",
       "      <th>Vazhakkala</th>\n",
       "      <td>7512</td>\n",
       "      <td>17353</td>\n",
       "      <td>54400000</td>\n",
       "    </tr>\n",
       "    <tr>\n",
       "      <th>Vyttila</th>\n",
       "      <td>35795</td>\n",
       "      <td>59782</td>\n",
       "      <td>776000000</td>\n",
       "    </tr>\n",
       "  </tbody>\n",
       "</table>\n",
       "</div>"
      ],
      "text/plain": [
       "                      id     sqft        price\n",
       "location                                      \n",
       " Aluva             39613    75263    138450000\n",
       " Alwaye             3240     5617     24800000\n",
       " Angamali           7400    18849     72000000\n",
       " Edappally          1191     9020     32700000\n",
       " Kadavanthra       17995    40901    191490000\n",
       " Kakkanad         275647   472708   1937350000\n",
       " Kalamasery         1070     2080      6000000\n",
       " Kaloor            31385    57018    201500000\n",
       " Kochi           1208307  2100989  14106169995\n",
       " Kolenchery           12     2440     15000000\n",
       " Kundanoor            16     3154     19600000\n",
       " Marine Drive          5     5687     55100000\n",
       " Thrikkakara      124192   208360    881400000\n",
       " Thrippunithura    14760    23730    160000000\n",
       " Vazhakkala         7512    17353     54400000\n",
       " Vyttila           35795    59782    776000000"
      ]
     },
     "execution_count": 96,
     "metadata": {},
     "output_type": "execute_result"
    }
   ],
   "source": [
    "dflocationsum"
   ]
  },
  {
   "cell_type": "code",
   "execution_count": 86,
   "metadata": {},
   "outputs": [
    {
     "data": {
      "text/plain": [
       "<matplotlib.axes._subplots.AxesSubplot at 0xd651412048>"
      ]
     },
     "execution_count": 86,
     "metadata": {},
     "output_type": "execute_result"
    },
    {
     "data": {
      "image/png": "[encoded data removed]",
      "text/plain": [
       "<matplotlib.figure.Figure at 0xd6516898d0>"
      ]
     },
     "metadata": {},
     "output_type": "display_data"
    }
   ],
   "source": [
    "dflocationsum.plot.barh(figsize = (12,6))"
   ]
  },
  {
   "cell_type": "code",
   "execution_count": 106,
   "metadata": {},
   "outputs": [
    {
     "data": {
      "text/plain": [
       "<matplotlib.axes._subplots.AxesSubplot at 0xd6523552e8>"
      ]
     },
     "execution_count": 106,
     "metadata": {},
     "output_type": "execute_result"
    },
    {
     "data": {
      "image/png": "[encoded data removed]",
      "text/plain": [
       "<matplotlib.figure.Figure at 0xd6527d8da0>"
      ]
     },
     "metadata": {},
     "output_type": "display_data"
    }
   ],
   "source": [
    "var=house_data.groupby('location').price.mean()\n",
    "fig = plt.figure()\n",
    "ax1 = fig.add_subplot(1,1,1)\n",
    "ax1.set_xlabel('location')\n",
    "ax1.set_ylabel('mean of prices')\n",
    "ax1.set_title(\"location wise mean of prices\")\n",
    "var.plot(kind='line',figsize=(18,6),color='orange')"
   ]
  },
  {
   "cell_type": "code",
   "execution_count": 127,
   "metadata": {},
   "outputs": [
    {
     "data": {
      "text/plain": [
       "<matplotlib.axes._subplots.AxesSubplot at 0xd6527ece80>"
      ]
     },
     "execution_count": 127,
     "metadata": {},
     "output_type": "execute_result"
    },
    {
     "data": {
      "image/png": "[encoded data removed]",
      "text/plain": [
       "<matplotlib.figure.Figure at 0xd6527ec9e8>"
      ]
     },
     "metadata": {},
     "output_type": "display_data"
    }
   ],
   "source": [
    "var=house_data.groupby('neighbourhood').price.mean()\n",
    "fig = plt.figure()\n",
    "ax1 = fig.add_subplot(1,1,1)\n",
    "ax1.set_xlabel('neighbourhood')\n",
    "ax1.set_ylabel('mean of prices')\n",
    "ax1.set_title(\"neighbourhood wise mean of prices\")\n",
    "var.plot(kind='line',figsize=(18,6),color='green')"
   ]
  },
  {
   "cell_type": "code",
   "execution_count": 125,
   "metadata": {
    "collapsed": true
   },
   "outputs": [],
   "source": []
  }
 ],
 "metadata": {
  "kernelspec": {
   "display_name": "Python 3",
   "language": "python",
   "name": "python3"
  },
  "language_info": {
   "codemirror_mode": {
    "name": "ipython",
    "version": 3
   },
   "file_extension": ".py",
   "mimetype": "text/x-python",
   "name": "python",
   "nbconvert_exporter": "python",
   "pygments_lexer": "ipython3",
   "version": "3.6.3"
  }
 },
 "nbformat": 4,
 "nbformat_minor": 2
}
